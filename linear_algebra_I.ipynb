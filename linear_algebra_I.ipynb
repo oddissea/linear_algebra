{
 "cells": [
  {
   "cell_type": "markdown",
   "id": "c634fddf-d300-457d-a966-ea367da23822",
   "metadata": {},
   "source": [
    "# 2. Linear Algebra (I)"
   ]
  },
  {
   "cell_type": "code",
   "execution_count": 66,
   "id": "ae0ef1e4-bd34-483b-ace5-c4e9333b40ef",
   "metadata": {},
   "outputs": [],
   "source": [
    "import numpy as np\n",
    "import pandas as pd\n",
    "\n",
    "from IPython.display import display, Math, Markdown\n",
    "from utils import *"
   ]
  },
  {
   "cell_type": "markdown",
   "id": "ce754d95-8376-49e1-a389-1dd7bb4b443e",
   "metadata": {},
   "source": [
    "## 2.1. Components"
   ]
  },
  {
   "cell_type": "markdown",
   "id": "4c570914-1338-41a3-8136-1a599805b538",
   "metadata": {},
   "source": [
    "### Scalar"
   ]
  },
  {
   "cell_type": "markdown",
   "id": "e3d36c33-0e1f-40df-8124-bcf1e733b656",
   "metadata": {},
   "source": [
    "* A scalar is a single number\n",
    "* Integers, real numbers, rational numbers, etc.\n",
    "* We denote it with italic font:\n",
    "\n",
    "  $\\it{a},~\\it{n},~\\it{x}$"
   ]
  },
  {
   "cell_type": "code",
   "execution_count": 67,
   "id": "39f16e3b-fdd6-4621-ab14-ce1f36c637d3",
   "metadata": {},
   "outputs": [
    {
     "name": "stdout",
     "output_type": "stream",
     "text": [
      "12 es un escalar\n"
     ]
    }
   ],
   "source": [
    "a = 12\n",
    "\n",
    "print(f'{a} es un escalar')"
   ]
  },
  {
   "cell_type": "markdown",
   "id": "145e358b-8297-4110-bd58-24dbc22eb7a9",
   "metadata": {},
   "source": [
    "### Vector"
   ]
  },
  {
   "cell_type": "markdown",
   "id": "66a8ad3f-8bd3-45a4-99a7-f5b605e17f6b",
   "metadata": {},
   "source": [
    "* A vector is a 1-D array of numbers:\n",
    "\n",
    "$\n",
    "\\boldsymbol{x} = \\begin{bmatrix}\n",
    "x_1 \\\\\n",
    "x_2 \\\\\n",
    "\\vdots \\\\\n",
    "x_n\n",
    "\\end{bmatrix}\n",
    "$  \n",
    "* Can be real, binary, integer, etc.\n",
    "* Example notation for type and size:\n",
    "\n",
    "  $\\mathbb{R}^n$"
   ]
  },
  {
   "cell_type": "markdown",
   "id": "156c8137-825e-4dc9-9b48-aa2c13fb90e3",
   "metadata": {},
   "source": [
    "### Matrix"
   ]
  },
  {
   "cell_type": "markdown",
   "id": "2edf9c18-55b3-4b31-b725-cc2d43409496",
   "metadata": {},
   "source": [
    "* A matrix is a 2-D array of numbers:\n",
    "\n",
    "$\n",
    "\\mathbf{A} = \\begin{bmatrix}\n",
    "A_{11} & A_{12} & \\cdots & A_{1n} \\\\\n",
    "A_{21} & A_{22} & \\cdots & A_{2n} \\\\\n",
    "\\vdots & \\vdots & \\ddots & \\vdots \\\\\n",
    "A_{m1} & A_{m2} & \\cdots & A_{mn}\n",
    "\\end{bmatrix}\n",
    "$\n",
    "\n",
    "* Example notation for type and shape:\n",
    "\n",
    "  $\\mathbf{A}\\in\\mathbb{R}^{m\\times n}$"
   ]
  },
  {
   "cell_type": "markdown",
   "id": "1990de8b-1c98-4386-8a82-d26ccc96583d",
   "metadata": {
    "jp-MarkdownHeadingCollapsed": true
   },
   "source": [
    "### Tensor"
   ]
  },
  {
   "cell_type": "markdown",
   "id": "110cdd25-c17b-4933-8a0e-71ab5279fc15",
   "metadata": {},
   "source": [
    "* A tensor is an array of numbers, that may have\n",
    "    * zero dimensions, and be a scalar\n",
    "    * one dimension, and be a vector\n",
    "    * two dimensions, and be a matrix\n",
    "    * or more dimensions.\n",
    "* Example notation for type:\n",
    "\n",
    "  $\\mathsfit{A}$"
   ]
  },
  {
   "cell_type": "markdown",
   "id": "60870f44-3c2c-4246-b56f-cc67d0dd3674",
   "metadata": {},
   "source": [
    "## 2.2. Operations"
   ]
  },
  {
   "cell_type": "markdown",
   "id": "d8f2e27e-2499-4734-9e64-2bf39f5cf695",
   "metadata": {},
   "source": [
    "### Transpose"
   ]
  },
  {
   "cell_type": "markdown",
   "id": "7cb80e01-81f3-430f-8549-5d0eec14112d",
   "metadata": {},
   "source": [
    "* For $\\mathbf{A} \\in \\mathbb{R}^{m \\times n}$ the matrix $\\mathbf{A}^{\\top} \\in \\mathbb{R}^{n \\times m}$ with\n",
    "$(\\mathbf{A}^{\\top})_{ij} = \\mathbf{A}_{ji}$ is called the transpose of $\\mathbf{A}$\n",
    "\n",
    "$\n",
    "\\mathbf{A} = \\begin{bmatrix}\n",
    "A_{11} & A_{12} \\\\\n",
    "A_{21} & A_{22} \\\\\n",
    "A_{31} & A_{32}\n",
    "\\end{bmatrix};~\n",
    "\\mathbf{A}^{\\top} = \\begin{bmatrix}\n",
    "A_{11} & A_{21} & A_{31}\\\\\n",
    "A_{12} & A_{22} & A_{32}\n",
    "\\end{bmatrix}\n",
    "$\n"
   ]
  },
  {
   "cell_type": "markdown",
   "id": "e17f81c2-d4bf-4cf7-809a-5b57aadc0513",
   "metadata": {},
   "source": [
    "* Sometimes we define a vector as a row matrix\n",
    "\n",
    "  $\\boldsymbol{x} = [x_1, x_2, \\ldots, x_n]^{\\top}$\n",
    "* We can see that a scalar is its own transpose: $a = a^{\\top}$"
   ]
  },
  {
   "cell_type": "markdown",
   "id": "a172832c-7cf4-4103-813f-2b8f0523d8b6",
   "metadata": {},
   "source": [
    "#### Example"
   ]
  },
  {
   "cell_type": "code",
   "execution_count": 68,
   "id": "3c9cf8c3-bbeb-4f9d-b8a9-bac6ae20340f",
   "metadata": {},
   "outputs": [],
   "source": [
    "writer = MatrixWriter()"
   ]
  },
  {
   "cell_type": "code",
   "execution_count": 69,
   "id": "7d3bce9b-2cf0-4006-8aa4-c08508777fea",
   "metadata": {},
   "outputs": [
    {
     "data": {
      "text/markdown": [
       "$\\mathbf{A}$ $=\\begin{bmatrix} 0 & 1\\\\\n",
       "2 & 3\\\\\n",
       "4 & 5 \\end{bmatrix}$ "
      ],
      "text/plain": [
       "<IPython.core.display.Markdown object>"
      ]
     },
     "metadata": {},
     "output_type": "display_data"
    },
    {
     "data": {
      "text/markdown": [
       "$\\mathbf{A}^{\\top}$ $=\\begin{bmatrix} 0 & 2 & 4\\\\\n",
       "1 & 3 & 5 \\end{bmatrix}$ "
      ],
      "text/plain": [
       "<IPython.core.display.Markdown object>"
      ]
     },
     "metadata": {},
     "output_type": "display_data"
    }
   ],
   "source": [
    "# Create a 3x2 matrix\n",
    "A = np.arange(6).reshape(3, 2)\n",
    "# Display the matrix using the function\n",
    "display(Markdown(\n",
    "    f'$\\\\mathbf{{A}}$ '\n",
    "    f'$={writer(A)}$ '\n",
    "))\n",
    "\n",
    "# Get the transpose of the matrix\n",
    "B = A.T\n",
    "\n",
    "# Display the transposed matrix using the function\n",
    "display(Markdown(\n",
    "    f'$\\\\mathbf{{A}}^{{\\\\top}}$ '\n",
    "    f'$={writer(B)}$ '\n",
    "))"
   ]
  },
  {
   "cell_type": "markdown",
   "id": "ecaf08af-410e-48e2-9f16-a97f01a300e6",
   "metadata": {},
   "source": [
    "### Sum"
   ]
  },
  {
   "cell_type": "markdown",
   "id": "34a155ea-acb0-48b9-9bba-10376d3d17ca",
   "metadata": {},
   "source": [
    "* We can add matrices to each other, as long as they have the **same shape**, just by adding their corresponding elements:\n",
    "\n",
    "  $\\mathbf{C}=\\mathbf{A}+\\mathbf{B}$  _where_\n",
    "\n",
    "  $\\mathbf{C}_{ij}=\\mathbf{A}_{ij}+\\mathbf{B}_{ij}$."
   ]
  },
  {
   "cell_type": "markdown",
   "id": "e6ddd26f-6c16-4aeb-957a-b922dc2aeeed",
   "metadata": {},
   "source": [
    "#### Example"
   ]
  },
  {
   "cell_type": "code",
   "execution_count": 70,
   "id": "d8954d9a-e502-4f29-b056-9a29a164e7f3",
   "metadata": {},
   "outputs": [
    {
     "data": {
      "text/markdown": [
       "$\\mathbf{A} + \\mathbf{B}$ $=\\begin{bmatrix} 0 & 2 & 4 & 6 & 8\\\\\n",
       "10 & 12 & 14 & 16 & 18\\\\\n",
       "20 & 22 & 24 & 26 & 28 \\end{bmatrix}$ "
      ],
      "text/plain": [
       "<IPython.core.display.Markdown object>"
      ]
     },
     "metadata": {},
     "output_type": "display_data"
    }
   ],
   "source": [
    "A = np.arange(15).reshape(3, 5)\n",
    "B = np.arange(15).reshape(3, 5)\n",
    "\n",
    "C = A + B\n",
    "\n",
    "# Display the matrix using the function\n",
    "display(Markdown(\n",
    "    f'$\\\\mathbf{{A}} + \\\\mathbf{{B}}$ '\n",
    "    f'$={writer(C)}$ '\n",
    "))\n"
   ]
  },
  {
   "cell_type": "markdown",
   "id": "ded3b97c-60d9-4a5c-baa8-78bda48deaf1",
   "metadata": {},
   "source": [
    "### Add a scalar to a Matrix or multiplied a Matrix by a scalar:"
   ]
  },
  {
   "cell_type": "markdown",
   "id": "3e5de880-2c94-4383-82b7-1fdfe916ff24",
   "metadata": {},
   "source": [
    "  $\\mathbf{D}=a \\cdot \\mathbf{B}+c$ _where_\n",
    "\n",
    "  $D_{ij} = a \\cdot B_{ij} + c$"
   ]
  },
  {
   "cell_type": "markdown",
   "id": "9b235635-1ebd-4201-b3f4-5acbe6d7f341",
   "metadata": {},
   "source": [
    "#### Example"
   ]
  },
  {
   "cell_type": "code",
   "execution_count": 71,
   "id": "e16eb54e-7ba4-4dab-bc35-f188b6361ef5",
   "metadata": {},
   "outputs": [
    {
     "data": {
      "text/markdown": [
       "$\\mathbf{B}$ $=\\begin{bmatrix} 0 & 1 & 2 & 3 & 4\\\\\n",
       "5 & 6 & 7 & 8 & 9\\\\\n",
       "10 & 11 & 12 & 13 & 14 \\end{bmatrix}\n",
       "$ "
      ],
      "text/plain": [
       "<IPython.core.display.Markdown object>"
      ]
     },
     "metadata": {},
     "output_type": "display_data"
    },
    {
     "data": {
      "text/markdown": [
       "$a \\cdot B_{04} + c= 3 \\cdot 4 + 6 =$ $18$ "
      ],
      "text/plain": [
       "<IPython.core.display.Markdown object>"
      ]
     },
     "metadata": {},
     "output_type": "display_data"
    },
    {
     "data": {
      "text/markdown": [
       "$\\mathbf{D}=$ $\\begin{bmatrix} 6 & 9 & 12 & 15 & 18\\\\\n",
       "21 & 24 & 27 & 30 & 33\\\\\n",
       "36 & 39 & 42 & 45 & 48 \\end{bmatrix}$ "
      ],
      "text/plain": [
       "<IPython.core.display.Markdown object>"
      ]
     },
     "metadata": {},
     "output_type": "display_data"
    }
   ],
   "source": [
    "B = np.arange(15).reshape(3,5)\n",
    "a = 3 \n",
    "c = 6\n",
    "D = a * B + c\n",
    "\n",
    "display(Markdown(\n",
    "    f'$\\\\mathbf{{B}}$ '\n",
    "    f'$={writer(B)}\\n$ '\n",
    "))\n",
    "\n",
    "display(Markdown(\n",
    "    f'$a \\\\cdot B_{{04}} + c= 3 \\\\cdot 4 + 6 =$ '\n",
    "    f'${a * B[0][4] + c}$ '\n",
    "))\n",
    "\n",
    "display(Markdown(\n",
    "    f'$\\\\mathbf{{D}}=$ '\n",
    "    f'${writer(D)}$ '\n",
    "))\n"
   ]
  },
  {
   "cell_type": "markdown",
   "id": "0803ae55-3a6e-4396-8736-8ec12519f4ee",
   "metadata": {},
   "source": [
    "### Multiplying Matrices and Vectors"
   ]
  },
  {
   "cell_type": "markdown",
   "id": "6fdf3051-74a2-48b6-80d2-dfc62542632f",
   "metadata": {},
   "source": [
    "* $\\mathbf{A}$ must have the same number of columns as $\\mathbf{B}$ has rows. If $\\mathbf{A}$ is of shape $m \\times n$ and $\\mathbf{B}$ is of shape $n \\times p$, then $\\mathbf{C}$ is of shape $m \\times p$.\n",
    "\n",
    "  $C_{ij} = \\displaystyle\\sum_{k}A_{ik}B_{kj}$"
   ]
  },
  {
   "cell_type": "markdown",
   "id": "8fb6e5bb-828a-4119-9e5f-65b96736a393",
   "metadata": {},
   "source": [
    "#### Example 1."
   ]
  },
  {
   "cell_type": "code",
   "execution_count": 72,
   "id": "aa1f5951-c1a2-44d6-9ee2-052ff21acb95",
   "metadata": {},
   "outputs": [
    {
     "data": {
      "text/markdown": [
       "$\\mathbf{C}= \\mathbf{A}_{[3\\times 5]} \\cdot \\mathbf{B}_{[5\\times 3]}=$ $\\begin{bmatrix} 0 & 1 & 2 & 3 & 4\\\\\n",
       "5 & 6 & 7 & 8 & 9\\\\\n",
       "10 & 11 & 12 & 13 & 14 \\end{bmatrix}\\cdot\\begin{bmatrix} 0 & 1 & 2\\\\\n",
       "3 & 4 & 5\\\\\n",
       "6 & 7 & 8\\\\\n",
       "9 & 10 & 11\\\\\n",
       "12 & 13 & 14 \\end{bmatrix}=\\begin{bmatrix} 90 & 100 & 110\\\\\n",
       "240 & 275 & 310\\\\\n",
       "390 & 450 & 510 \\end{bmatrix}_{[3 \\times 3]}$ "
      ],
      "text/plain": [
       "<IPython.core.display.Markdown object>"
      ]
     },
     "metadata": {},
     "output_type": "display_data"
    }
   ],
   "source": [
    "A = np.arange(15).reshape(3,5)\n",
    "B = np.arange(15).reshape(5,3)\n",
    "\n",
    "C = A @ B\n",
    "\n",
    "display(Markdown(\n",
    "    f'$\\\\mathbf{{C}}= \\\\mathbf{{A}}_{{[3\\\\times 5]}} \\\\cdot \\\\mathbf{{B}}_{{[5\\\\times 3]}}=$ '\n",
    "    f'${writer(A)}\\\\cdot{writer(B)}={writer(C)}_{{[3 \\\\times 3]}}$ '\n",
    "))"
   ]
  },
  {
   "cell_type": "markdown",
   "id": "17b185a1-b725-413a-a568-ac09c87e43a4",
   "metadata": {},
   "source": [
    "#### Example 2. Vectors in numpy"
   ]
  },
  {
   "cell_type": "code",
   "execution_count": 73,
   "id": "ecb86caa-5822-4743-922b-cf25cb7b8162",
   "metadata": {},
   "outputs": [
    {
     "data": {
      "text/markdown": [
       "$\\mathbf{a}=\\begin{bmatrix} 1\\\\\n",
       "2\\\\\n",
       "3 \\end{bmatrix}$"
      ],
      "text/plain": [
       "<IPython.core.display.Markdown object>"
      ]
     },
     "metadata": {},
     "output_type": "display_data"
    },
    {
     "data": {
      "text/markdown": [
       "$\\mathbf{b}=\\begin{bmatrix} 4\\\\\n",
       "5\\\\\n",
       "6 \\end{bmatrix}$"
      ],
      "text/plain": [
       "<IPython.core.display.Markdown object>"
      ]
     },
     "metadata": {},
     "output_type": "display_data"
    },
    {
     "name": "stdout",
     "output_type": "stream",
     "text": [
      "The shape of 1D vectors is (n,). In this case, vector \"a\" has the shape (3,)\n",
      "\n"
     ]
    },
    {
     "data": {
      "text/markdown": [
       "Element-wise product: $\\mathbf{a} * \\mathbf{b}=$ $\\begin{bmatrix} 1\\\\\n",
       "2\\\\\n",
       "3 \\end{bmatrix} * \\begin{bmatrix} 4\\\\\n",
       "5\\\\\n",
       "6 \\end{bmatrix} = \\begin{bmatrix} 4\\\\\n",
       "10\\\\\n",
       "18 \\end{bmatrix}$ "
      ],
      "text/plain": [
       "<IPython.core.display.Markdown object>"
      ]
     },
     "metadata": {},
     "output_type": "display_data"
    },
    {
     "name": "stdout",
     "output_type": "stream",
     "text": [
      "In NumPy, 1D vectors do not need to be transposed to perform a dot product\n",
      "\n"
     ]
    },
    {
     "data": {
      "text/markdown": [
       "Dot Product: $\\mathbf{a} \\cdot \\mathbf{b}=$ $\\begin{bmatrix} 1\\\\\n",
       "2\\\\\n",
       "3 \\end{bmatrix} \\cdot \\begin{bmatrix} 4\\\\\n",
       "5\\\\\n",
       "6 \\end{bmatrix} = 32$ "
      ],
      "text/plain": [
       "<IPython.core.display.Markdown object>"
      ]
     },
     "metadata": {},
     "output_type": "display_data"
    }
   ],
   "source": [
    "# If we define two vectors in numpy, they are defined as 1D elements\n",
    "a = np.array([1, 2, 3])\n",
    "b = np.array([4, 5, 6])\n",
    "\n",
    "display(Markdown(f\"$\\mathbf{{a}}={writer(a)}$\"))\n",
    "display(Markdown(f\"$\\mathbf{{b}}={writer(b)}$\"))\n",
    "\n",
    "print(f'The shape of 1D vectors is (n,). In this case, vector \"a\" has the shape {a.shape}')\n",
    "\n",
    "# Element-wise product (Hadamard Product)\n",
    "element_wise_product = a * b\n",
    "print(\"\")\n",
    "\n",
    "display(Markdown(\n",
    "    f'Element-wise product: $\\\\mathbf{{a}} * \\\\mathbf{{b}}=$ '\n",
    "    f'${writer(a)} * {writer(b)} = {writer(element_wise_product)}$ '\n",
    "))\n",
    "\n",
    "# Scalar product or dot product (Dot Product)\n",
    "# no need to transpose\n",
    "dot_product_dot = np.dot(a, b)\n",
    "\n",
    "# Similarly, scalar product or dot product (Dot Product with @)\n",
    "dot_product = a @ b\n",
    "\n",
    "print(f'In NumPy, 1D vectors do not need to be transposed to perform a dot product\\n')\n",
    "\n",
    "display(Markdown(\n",
    "    f'Dot Product: $\\\\mathbf{{a}} \\\\cdot \\\\mathbf{{b}}=$ '\n",
    "    f'${writer(a)} \\\\cdot {writer(b)} = {dot_product}$ '\n",
    "))"
   ]
  },
  {
   "cell_type": "markdown",
   "id": "c3d140ff-cf4e-4245-b7a4-e92b6ca80e90",
   "metadata": {},
   "source": [
    "#### Example 3. Vectors as column or row vectors in NumPy"
   ]
  },
  {
   "cell_type": "code",
   "execution_count": 74,
   "id": "506b23ef-7ea9-437a-87de-d8abb661636a",
   "metadata": {},
   "outputs": [
    {
     "data": {
      "text/markdown": [
       "$\\mathbf{a}=\\begin{bmatrix} 1\\\\\n",
       "2\\\\\n",
       "3 \\end{bmatrix}; \\mathbf{b}=\\begin{bmatrix} 4\\\\\n",
       "5\\\\\n",
       "6 \\end{bmatrix}$"
      ],
      "text/plain": [
       "<IPython.core.display.Markdown object>"
      ]
     },
     "metadata": {},
     "output_type": "display_data"
    },
    {
     "data": {
      "text/markdown": [
       "Dot Product: $\\mathbf{a}^{\\top} \\cdot \\mathbf{b}=$ $\\begin{bmatrix} 1 & 2 & 3 \\end{bmatrix} \\cdot \\begin{bmatrix} 4\\\\\n",
       "5\\\\\n",
       "6 \\end{bmatrix} = 32$ "
      ],
      "text/plain": [
       "<IPython.core.display.Markdown object>"
      ]
     },
     "metadata": {},
     "output_type": "display_data"
    },
    {
     "data": {
      "text/markdown": [
       "Dot Product: $\\mathbf{a} \\cdot \\mathbf{b}^{\\top}=$ $\\begin{bmatrix} 1\\\\\n",
       "2\\\\\n",
       "3 \\end{bmatrix} \\cdot \\begin{bmatrix} 4 & 5 & 6 \\end{bmatrix} = \\begin{bmatrix} 4 & 5 & 6\\\\\n",
       "8 & 10 & 12\\\\\n",
       "12 & 15 & 18 \\end{bmatrix}$ "
      ],
      "text/plain": [
       "<IPython.core.display.Markdown object>"
      ]
     },
     "metadata": {},
     "output_type": "display_data"
    }
   ],
   "source": [
    "# If we define vectors as column or row vectors in NumPy, one of them needs to be transposed to perform a dot product:\n",
    "\n",
    "# Definition of column vectors\n",
    "a_col = np.array([[1], [2], [3]])\n",
    "b_col = np.array([[4], [5], [6]])\n",
    "\n",
    "#latex_a = display_matrix(a_col)\n",
    "#latex_b = display_matrix(b_col)\n",
    "\n",
    "\n",
    "display(Markdown(\n",
    "    f\"$\\mathbf{{a}}={writer(a_col)}; \\mathbf{{b}}={writer(b_col)}$\"\n",
    "))\n",
    "\n",
    "# Dot product of column vectors (transposing one of them)\n",
    "dot_product_col = np.dot(a_col.T, b_col)\n",
    "\n",
    "# Dot product of column vectors using @ operator (if we do not transpose, it will give an error)\n",
    "dot_product_col = a_col.T @ b_col\n",
    "\n",
    "# Extract the scalar from the resulting 1x1 matrix\n",
    "dot_product_scalar = dot_product_col[0, 0]\n",
    "\n",
    "\n",
    "display(Markdown(\n",
    "    f'Dot Product: $\\\\mathbf{{a}}^{{\\\\top}} \\\\cdot \\\\mathbf{{b}}=$ '\n",
    "    f'${writer(a_col.T)} \\\\cdot {writer(b_col)} = {dot_product_scalar}$ '\n",
    "))\n",
    "\n",
    "# Dot product of column vectors using @ operator (if we do not transpose, it will give an error)\n",
    "dot_product_row = a_col @ b_col.T\n",
    "display(Markdown(\n",
    "    f'Dot Product: $\\\\mathbf{{a}} \\\\cdot \\\\mathbf{{b}}^{{\\\\top}}=$ '\n",
    "    f'${writer(a_col)} \\\\cdot {writer(b_col.T)} = {writer(dot_product_row)}$ '\n",
    "))\n"
   ]
  },
  {
   "cell_type": "markdown",
   "id": "591192cc-2446-491c-8633-4d1ad4a5f873",
   "metadata": {},
   "source": [
    "#### Product Properties"
   ]
  },
  {
   "cell_type": "markdown",
   "id": "8e1f1bbb-671b-462e-934c-c92d98a1702a",
   "metadata": {},
   "source": [
    "##### **Distributive**\n",
    "\n",
    "$\\mathbf{A}(\\mathbf{B}+\\mathbf{C}) = \\mathbf{A}\\mathbf{B} + \\mathbf{A}\\mathbf{C}$\n",
    "\n",
    "##### **Associative**\n",
    "\n",
    "$\\mathbf{A}(\\mathbf{B}\\mathbf{C}) = (\\mathbf{A}\\mathbf{B})\\mathbf{C}$"
   ]
  },
  {
   "cell_type": "markdown",
   "id": "154eb961-7a25-4771-ac9b-5d1dd0b68d8f",
   "metadata": {},
   "source": [
    "##### **Not commutative**\n",
    "\n",
    "The condition $\\mathbf{A}\\mathbf{B} = \\mathbf{B}\\mathbf{A}$ does not always hold"
   ]
  },
  {
   "cell_type": "markdown",
   "id": "1e301124-eee2-4dfd-93e7-80a8d8daea2d",
   "metadata": {},
   "source": [
    "##### **Examples of commutative cases**"
   ]
  },
  {
   "cell_type": "markdown",
   "id": "10a69e87-bac7-499f-a372-546704e6359a",
   "metadata": {},
   "source": [
    "However, the **dot product between two vectors** is commutative\n",
    "\n",
    "$\\boldsymbol{x}^\\top\\boldsymbol{y}=\\boldsymbol{y}^\\top\\boldsymbol{x}$\n",
    "\n",
    "$(\\mathbf{A}\\mathbf{B})^{\\top} = \\mathbf{B}^{\\top}\\mathbf{A}^{\\top}$"
   ]
  },
  {
   "cell_type": "code",
   "execution_count": 75,
   "id": "890dba93-b5e5-4bfa-9e92-74e9b0f33dbb",
   "metadata": {},
   "outputs": [
    {
     "data": {
      "text/markdown": [
       "$(\\mathbf{A}_{[3\\times 5]} \\cdot \\mathbf{B}_{[5\\times 3]})^{\\top}=$ $\\Bigg( \\begin{bmatrix} 0 & 1 & 2 & 3 & 4\\\\\n",
       "5 & 6 & 7 & 8 & 9\\\\\n",
       "10 & 11 & 12 & 13 & 14 \\end{bmatrix} \\cdot \\begin{bmatrix} 0 & 1 & 2\\\\\n",
       "3 & 4 & 5\\\\\n",
       "6 & 7 & 8\\\\\n",
       "9 & 10 & 11\\\\\n",
       "12 & 13 & 14 \\end{bmatrix} \\Bigg)^{\\top}$ $= \\begin{bmatrix} 90 & 100 & 110\\\\\n",
       "240 & 275 & 310\\\\\n",
       "390 & 450 & 510 \\end{bmatrix}_{[3 \\times 3]}^{\\top} = \\begin{bmatrix} 90 & 240 & 390\\\\\n",
       "100 & 275 & 450\\\\\n",
       "110 & 310 & 510 \\end{bmatrix}$"
      ],
      "text/plain": [
       "<IPython.core.display.Markdown object>"
      ]
     },
     "metadata": {},
     "output_type": "display_data"
    },
    {
     "data": {
      "text/markdown": [
       "$\\mathbf{B}_{[3\\times 5]}^{\\top} \\cdot \\mathbf{A}_{[5\\times 3]}^{\\top}=$ $\\begin{bmatrix} 0 & 3 & 6 & 9 & 12\\\\\n",
       "1 & 4 & 7 & 10 & 13\\\\\n",
       "2 & 5 & 8 & 11 & 14 \\end{bmatrix} \\cdot \\begin{bmatrix} 0 & 5 & 10\\\\\n",
       "1 & 6 & 11\\\\\n",
       "2 & 7 & 12\\\\\n",
       "3 & 8 & 13\\\\\n",
       "4 & 9 & 14 \\end{bmatrix}$ "
      ],
      "text/plain": [
       "<IPython.core.display.Markdown object>"
      ]
     },
     "metadata": {},
     "output_type": "display_data"
    }
   ],
   "source": [
    "A = np.arange(15).reshape(3,5)\n",
    "B = np.arange(15).reshape(5,3)\n",
    "\n",
    "C = A @ B\n",
    "\n",
    "display(Markdown(\n",
    "    f'$(\\\\mathbf{{A}}_{{[3\\\\times 5]}} \\\\cdot \\\\mathbf{{B}}_{{[5\\\\times 3]}})^{{\\\\top}}=$ '\n",
    "    f'$\\Bigg( {writer(A)} \\cdot {writer(B)} \\Bigg)^{{\\\\top}}$ ' \n",
    "    f'$= {writer(C)}_{{[3 \\\\times 3]}}^{{\\\\top}} = {writer(C.T)}$'))\n",
    "\n",
    "D = B.T @ A.T\n",
    "\n",
    "display(Markdown(\n",
    "    f'$\\\\mathbf{{B}}_{{[3\\\\times 5]}}^{{\\\\top}} \\\\cdot \\\\mathbf{{A}}_{{[5\\\\times 3]}}^{{\\\\top}}=$ '\n",
    "    f'${writer(B.T)} \\cdot {writer(A.T)}$ ' \n",
    "))"
   ]
  },
  {
   "cell_type": "markdown",
   "id": "8220412a-1fd5-41f6-8641-0e52226a6f70",
   "metadata": {},
   "source": [
    "#### System of linear equations\n",
    "\n",
    "$\\mathbf{A}\\boldsymbol{x}=\\boldsymbol{b}$\n",
    "\n",
    "$\\mathbf{A}\\in \\mathbb{R}^{m\\times n};~\\boldsymbol{x} \\in \\mathbb{R}^n;~\\boldsymbol{b} \\in \\mathbb{R}^m$\n",
    "\n",
    "$\n",
    "\\mathbf{A} = \\begin{bmatrix}\n",
    "A_{11} & A_{12} & \\cdots & A_{1n} \\\\\n",
    "A_{21} & A_{22} & \\cdots & A_{2n} \\\\\n",
    "\\vdots & \\vdots & \\ddots & \\vdots \\\\\n",
    "A_{m1} & A_{m2} & \\cdots & A_{mn}\n",
    "\\end{bmatrix}\n",
    "\\begin{bmatrix}\n",
    "x_{1}  \\\\\n",
    "x_{2}  \\\\\n",
    "\\vdots  \\\\\n",
    "x_{n} \n",
    "\\end{bmatrix}\n",
    "=\\begin{bmatrix}\n",
    "b_{1}  \\\\\n",
    "b_{2}  \\\\\n",
    "\\vdots  \\\\\n",
    "b_{m} \n",
    "\\end{bmatrix}\n",
    "$"
   ]
  }
 ],
 "metadata": {
  "kernelspec": {
   "display_name": "Python 3 (ipykernel)",
   "language": "python",
   "name": "python3"
  },
  "language_info": {
   "codemirror_mode": {
    "name": "ipython",
    "version": 3
   },
   "file_extension": ".py",
   "mimetype": "text/x-python",
   "name": "python",
   "nbconvert_exporter": "python",
   "pygments_lexer": "ipython3",
   "version": "3.11.9"
  }
 },
 "nbformat": 4,
 "nbformat_minor": 5
}
